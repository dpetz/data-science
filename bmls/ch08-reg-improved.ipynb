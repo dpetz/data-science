{
 "cells": [
  {
   "cell_type": "markdown",
   "metadata": {},
   "source": [
    "Chapter 8. Sample code [here](https://github.com/luispedro/BuildingMachineLearningSystemsWithPython/tree/c0a3b3a397d22c6941012c78d24c0fcfefe740fc/ch08)\n",
    "\n",
    "The full u data set, 100000 ratings by 943 users on 1682 items. Each user has rated at least 20 movies."
   ]
  },
  {
   "cell_type": "code",
   "execution_count": 1,
   "metadata": {
    "collapsed": false
   },
   "outputs": [],
   "source": [
    "from matplotlib import pyplot as plt"
   ]
  },
  {
   "cell_type": "code",
   "execution_count": 2,
   "metadata": {
    "collapsed": true
   },
   "outputs": [],
   "source": [
    "def load():\n",
    "    '''Load ML-100k data\n",
    "    Returns the review matrix as a numpy array'''\n",
    "    import numpy as np\n",
    "    from scipy import sparse\n",
    "    from os import path\n",
    "\n",
    "    if not path.exists('data/ml-100k/u.data'):\n",
    "        raise IOError(\"Data has not been downloaded.\\nTry the following:\\n\\n\\tcd data\\n\\t./download.sh\")\n",
    "\n",
    "    # The input is in the form of a CSC sparse matrix, so it's a natural fit to\n",
    "    # load the data, but we then convert to a more traditional array before\n",
    "    # returning\n",
    "    data = np.loadtxt('data/ml-100k/u.data')\n",
    "    ij = data[:, :2]\n",
    "    ij -= 1  # original data is in 1-based system\n",
    "    values = data[:, 2]\n",
    "    reviews = sparse.csc_matrix((values, ij.T)).astype(float)\n",
    "    return reviews"
   ]
  },
  {
   "cell_type": "code",
   "execution_count": 3,
   "metadata": {
    "collapsed": false
   },
   "outputs": [
    {
     "name": "stdout",
     "output_type": "stream",
     "text": [
      "[[ 5.  3.  4.  3.  3.  5.  4.  1.  5.  3.]\n",
      " [ 4.  0.  0.  0.  0.  0.  0.  0.  0.  2.]\n",
      " [ 0.  0.  0.  0.  0.  0.  0.  0.  0.  0.]\n",
      " [ 0.  0.  0.  0.  0.  0.  0.  0.  0.  0.]\n",
      " [ 4.  3.  0.  0.  0.  0.  0.  0.  0.  0.]\n",
      " [ 4.  0.  0.  0.  0.  0.  2.  4.  4.  0.]\n",
      " [ 0.  0.  0.  5.  0.  0.  5.  5.  5.  4.]\n",
      " [ 0.  0.  0.  0.  0.  0.  3.  0.  0.  0.]\n",
      " [ 0.  0.  0.  0.  0.  5.  4.  0.  0.  0.]\n",
      " [ 4.  0.  0.  4.  0.  0.  4.  0.  4.  0.]]\n"
     ]
    }
   ],
   "source": [
    "# Load data and print first entries\n",
    "reviews = load()\n",
    "print(reviews[:10,:10].todense())"
   ]
  },
  {
   "cell_type": "code",
   "execution_count": 4,
   "metadata": {
    "collapsed": false
   },
   "outputs": [
    {
     "data": {
      "text/plain": [
       "<matplotlib.image.AxesImage at 0x10a973898>"
      ]
     },
     "execution_count": 4,
     "metadata": {},
     "output_type": "execute_result"
    },
    {
     "data": {
      "image/png": "[encoded data removed]",
      "text/plain": [
       "<matplotlib.figure.Figure at 0x10a7c5748>"
      ]
     },
     "metadata": {},
     "output_type": "display_data"
    }
   ],
   "source": [
    "imagedata = reviews[:200,:200].todense()\n",
    "%matplotlib inline\n",
    "plt.imshow(imagedata,interpolation='nearest')"
   ]
  },
  {
   "cell_type": "code",
   "execution_count": 7,
   "metadata": {
    "collapsed": false
   },
   "outputs": [],
   "source": [
    "import numpy as np\n",
    "def all_correlations(bait, target):\n",
    "    \"\"\"Returns numpy array of pearson correlations of bait with each element of target\"\"\"\n",
    "    return np.array(np.corrcoef(bait,c)[0,1] for c in target)"
   ]
  },
  {
   "cell_type": "code",
   "execution_count": 1,
   "metadata": {
    "collapsed": false
   },
   "outputs": [
    {
     "ename": "SyntaxError",
     "evalue": "invalid syntax (<ipython-input-1-7e4c591c1d2f>, line 10)",
     "output_type": "error",
     "traceback": [
      "\u001b[0;36m  File \u001b[0;32m\"<ipython-input-1-7e4c591c1d2f>\"\u001b[0;36m, line \u001b[0;32m10\u001b[0m\n\u001b[0;31m    estimates /= b.1 + br[selected].mean(0)\u001b[0m\n\u001b[0m                   ^\u001b[0m\n\u001b[0;31mSyntaxError\u001b[0m\u001b[0;31m:\u001b[0m invalid syntax\n"
     ]
    }
   ],
   "source": [
    "def estimate(user,rest):\n",
    "    # binary versions of ...\n",
    "    bu = user > 0 # user ratings\n",
    "    br = rest > 0 # rest ratings\n",
    "    \n",
    "    corr = all_correlations(bu,ru)\n",
    "    selected = corr.argsort()[-100:] # indices of most correlated neighbors\n",
    "    estimates = selected.mean(0)\n",
    "    \n",
    "    estimates /= b.1 + br[selected].mean(0)\n",
    "    "
   ]
  },
  {
   "cell_type": "markdown",
   "metadata": {},
   "source": [
    "Abbruch -- Buch voller Fehler und sehr basismäßig."
   ]
  }
 ],
 "metadata": {
  "kernelspec": {
   "display_name": "Python 3",
   "language": "python",
   "name": "python3"
  },
  "language_info": {
   "codemirror_mode": {
    "name": "ipython",
    "version": 3
   },
   "file_extension": ".py",
   "mimetype": "text/x-python",
   "name": "python",
   "nbconvert_exporter": "python",
   "pygments_lexer": "ipython3",
   "version": "3.5.2"
  }
 },
 "nbformat": 4,
 "nbformat_minor": 0
}
