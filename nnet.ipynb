{
 "cells": [
  {
   "cell_type": "markdown",
   "metadata": {},
   "source": [
    "https://iamtrask.github.io/2015/07/12/basic-python-network/"
   ]
  },
  {
   "cell_type": "code",
   "execution_count": 1,
   "metadata": {},
   "outputs": [],
   "source": [
    "import numpy as np\n",
    "\n",
    "# Sigmoid function\n",
    "def nonlin(x,deriv=False):\n",
    "    if (deriv):\n",
    "        return x*(1-x)\n",
    "    return 1/(1+np.exp(-x))\n",
    "\n",
    "# Input rows. \n",
    "X = np.array([[0,0,1],\n",
    "              [0,1,1],\n",
    "              [1,0,1],\n",
    "              [1,1,1]])"
   ]
  },
  {
   "cell_type": "code",
   "execution_count": 2,
   "metadata": {},
   "outputs": [
    {
     "data": {
      "text/plain": [
       "array([[0.00966808],\n",
       "       [0.00786589],\n",
       "       [0.99358863],\n",
       "       [0.99211705]])"
      ]
     },
     "execution_count": 2,
     "metadata": {},
     "output_type": "execute_result"
    }
   ],
   "source": [
    "# Outputs. Happens to be first feature.\n",
    "y = np.array([[0,0,1,1]]).T\n",
    "\n",
    "# initialize weights randomly with mean 0\n",
    "np.random.seed(42)\n",
    "syn0 = 2*np.random.random((3,1)) - 1\n",
    "\n",
    "for iter in range(10000):\n",
    "    \n",
    "    # forward propagation\n",
    "    l0 = X\n",
    "    l1 = nonlin(np.dot(l0,syn0)) # dot = sum product in numpy\n",
    "    \n",
    "    # how much did we miss?\n",
    "    l1_error = y - l1\n",
    "    \n",
    "    # multiply how much we missed by the\n",
    "    # slope of the sigmoid at the values in l1\n",
    "    l1_delta = l1_error * nonlin(l1,True)\n",
    "    \n",
    "    # update weights\n",
    "    syn0 += np.dot(l0.T,l1_delta) \n",
    "l1"
   ]
  },
  {
   "cell_type": "code",
   "execution_count": 3,
   "metadata": {},
   "outputs": [
    {
     "data": {
      "text/plain": [
       "array([[ 9.67256303],\n",
       "       [-0.20811174],\n",
       "       [-4.62926144]])"
      ]
     },
     "execution_count": 3,
     "metadata": {},
     "output_type": "execute_result"
    }
   ],
   "source": [
    "syn0"
   ]
  },
  {
   "cell_type": "markdown",
   "metadata": {},
   "source": [
    "Shouldn't `syn0[1]` be much smaller as output can be completly predicted from `x[0]`?"
   ]
  },
  {
   "cell_type": "code",
   "execution_count": 4,
   "metadata": {},
   "outputs": [],
   "source": [
    "# Output now x_0 XOR x_1\n",
    "# Need 3 layers to learn this pattern\n",
    "y = np.array([[0,1,1,0]]).T\n",
    "\n",
    "\n",
    "def nnet(hidden_layer_size=3, epochs=60000, seed=42, log_errors=True):\n",
    "\n",
    "    # Three layer network with 3, 4 and 1 neurons.\n",
    "    # randomly initialize our weights with mean 0\n",
    "\n",
    "    np.random.seed(seed)\n",
    "    syn0 = 2*np.random.random((3,hidden_layer_size)) - 1\n",
    "    syn1 = 2*np.random.random((hidden_layer_size,1)) - 1\n",
    "\n",
    "    for j in range(epochs):\n",
    "\n",
    "        # Feed forward through layers 0, 1, and 2\n",
    "        l0 = X\n",
    "        l1 = nonlin(np.dot(l0,syn0))\n",
    "        l2 = nonlin(np.dot(l1,syn1))\n",
    "\n",
    "        # how much did we miss the target value?\n",
    "        l2_error = y - l2\n",
    "        l2_error_mean = np.mean(np.abs(l2_error))\n",
    "\n",
    "        if (log_errors and (j%10000 == 0)):\n",
    "            print(\"Error: %f\" % l2_error_mean)\n",
    "\n",
    "        # in what direction is the target value?\n",
    "        # were we really sure? if so, don't change too much.\n",
    "        l2_delta = l2_error*nonlin(l2,deriv=True)\n",
    "\n",
    "        # how much did each l1 value contribute to the l2 error (according to the weights)?\n",
    "        l1_error = l2_delta.dot(syn1.T)\n",
    "\n",
    "        # in what direction is the target l1?\n",
    "        # were we really sure? if so, don't change too much.\n",
    "        l1_delta = l1_error * nonlin(l1,deriv=True)\n",
    "\n",
    "        syn1 += l1.T.dot(l2_delta)\n",
    "        syn0 += l0.T.dot(l1_delta)\n",
    "    return l2_error_mean, syn0, syn1"
   ]
  },
  {
   "cell_type": "markdown",
   "metadata": {},
   "source": [
    "3 hidden neurons are required to model the XOR. Two for capturing the `ÒR` and one more for the `X`."
   ]
  },
  {
   "cell_type": "code",
   "execution_count": 5,
   "metadata": {},
   "outputs": [
    {
     "name": "stdout",
     "output_type": "stream",
     "text": [
      "Error: 0.497227\n",
      "Error: 0.010790\n",
      "Error: 0.007464\n",
      "Error: 0.006036\n",
      "Error: 0.005196\n",
      "Error: 0.004629\n"
     ]
    },
    {
     "data": {
      "text/plain": [
       "array([[ 2.42350241,  7.46417695,  5.72198525],\n",
       "       [ 2.90091623, -6.12413245, -7.11689821],\n",
       "       [ 0.73820995,  2.71294886, -2.69521821]])"
      ]
     },
     "execution_count": 5,
     "metadata": {},
     "output_type": "execute_result"
    }
   ],
   "source": [
    "_, syn0, syn1 = nnet()\n",
    "syn0"
   ]
  },
  {
   "cell_type": "code",
   "execution_count": 6,
   "metadata": {},
   "outputs": [
    {
     "data": {
      "text/plain": [
       "array([[  5.81169952],\n",
       "       [-11.41548566],\n",
       "       [ 11.87697828]])"
      ]
     },
     "execution_count": 6,
     "metadata": {},
     "output_type": "execute_result"
    }
   ],
   "source": [
    "syn1"
   ]
  },
  {
   "cell_type": "code",
   "execution_count": 7,
   "metadata": {},
   "outputs": [
    {
     "name": "stdout",
     "output_type": "stream",
     "text": [
      "0.4584878090167257\n",
      "0.01056136294393234\n",
      "0.004212792374307104\n",
      "0.004165398133066024\n"
     ]
    }
   ],
   "source": [
    "for s in range (1,5):\n",
    "    print(nnet(hidden_layer_size=s, log_errors=False)[0])"
   ]
  }
 ],
 "metadata": {
  "kernelspec": {
   "display_name": "Python 3",
   "language": "python",
   "name": "python3"
  },
  "language_info": {
   "codemirror_mode": {
    "name": "ipython",
    "version": 3
   },
   "file_extension": ".py",
   "mimetype": "text/x-python",
   "name": "python",
   "nbconvert_exporter": "python",
   "pygments_lexer": "ipython3",
   "version": "3.6.6"
  }
 },
 "nbformat": 4,
 "nbformat_minor": 2
}
